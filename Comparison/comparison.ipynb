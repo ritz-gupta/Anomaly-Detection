{
 "cells": [
  {
   "cell_type": "code",
   "execution_count": 1,
   "metadata": {},
   "outputs": [],
   "source": [
    "# importing libraries req\n",
    "import pandas as pd\n",
    "import matplotlib.pyplot as plt\n",
    "import numpy as np"
   ]
  },
  {
   "cell_type": "code",
   "execution_count": 2,
   "metadata": {},
   "outputs": [],
   "source": [
    "# setting up the result paths\n",
    "bayes = '../Model Results/bayes.csv'\n",
    "dtc = '../Model Results/DTC.csv'\n",
    "# svm = '../Model Results/SVM.csv'\n",
    "knn = '../Model Results/KNN.csv'\n",
    "lr = '../Model Results/LR.csv'\n",
    "rf = '../Model Results/RF.csv'"
   ]
  },
  {
   "cell_type": "code",
   "execution_count": 3,
   "metadata": {},
   "outputs": [],
   "source": [
    "labels = ['precision', 'recall', 'f1-score', 'support']"
   ]
  },
  {
   "cell_type": "code",
   "execution_count": 4,
   "metadata": {},
   "outputs": [
    {
     "data": {
      "text/html": [
       "<div>\n",
       "<style scoped>\n",
       "    .dataframe tbody tr th:only-of-type {\n",
       "        vertical-align: middle;\n",
       "    }\n",
       "\n",
       "    .dataframe tbody tr th {\n",
       "        vertical-align: top;\n",
       "    }\n",
       "\n",
       "    .dataframe thead th {\n",
       "        text-align: right;\n",
       "    }\n",
       "</style>\n",
       "<table border=\"1\" class=\"dataframe\">\n",
       "  <thead>\n",
       "    <tr style=\"text-align: right;\">\n",
       "      <th></th>\n",
       "      <th>Metrics</th>\n",
       "      <th>precision</th>\n",
       "      <th>recall</th>\n",
       "      <th>f1-score</th>\n",
       "      <th>support</th>\n",
       "    </tr>\n",
       "  </thead>\n",
       "  <tbody>\n",
       "    <tr>\n",
       "      <th>0</th>\n",
       "      <td>accuracy</td>\n",
       "      <td>0.251347</td>\n",
       "      <td>0.251347</td>\n",
       "      <td>0.251347</td>\n",
       "      <td>0.251347</td>\n",
       "    </tr>\n",
       "    <tr>\n",
       "      <th>1</th>\n",
       "      <td>macro avg</td>\n",
       "      <td>0.300846</td>\n",
       "      <td>0.359822</td>\n",
       "      <td>0.191845</td>\n",
       "      <td>268935.000000</td>\n",
       "    </tr>\n",
       "    <tr>\n",
       "      <th>2</th>\n",
       "      <td>weighted avg</td>\n",
       "      <td>0.277657</td>\n",
       "      <td>0.251347</td>\n",
       "      <td>0.193000</td>\n",
       "      <td>268935.000000</td>\n",
       "    </tr>\n",
       "  </tbody>\n",
       "</table>\n",
       "</div>"
      ],
      "text/plain": [
       "        Metrics  precision    recall  f1-score        support\n",
       "0      accuracy   0.251347  0.251347  0.251347       0.251347\n",
       "1     macro avg   0.300846  0.359822  0.191845  268935.000000\n",
       "2  weighted avg   0.277657  0.251347  0.193000  268935.000000"
      ]
     },
     "execution_count": 4,
     "metadata": {},
     "output_type": "execute_result"
    }
   ],
   "source": [
    "b = pd.read_csv(bayes).tail(3)\n",
    "b.rename(columns={'Unnamed: 0' : 'Metrics'}, inplace=True)\n",
    "b.reset_index(inplace=True)\n",
    "del b['index']\n",
    "b"
   ]
  },
  {
   "cell_type": "code",
   "execution_count": 5,
   "metadata": {},
   "outputs": [
    {
     "data": {
      "text/plain": [
       "[[0.25135, 0.30085, 0.27766],\n",
       " [0.25135, 0.35982, 0.25135],\n",
       " [0.25135, 0.19185, 0.193],\n",
       " [0.25135, 268935.0, 268935.0]]"
      ]
     },
     "execution_count": 5,
     "metadata": {},
     "output_type": "execute_result"
    }
   ],
   "source": [
    "bayes_scores = [[], [], [], []]\n",
    "for i in range(3):\n",
    "    for j in range(4):\n",
    "        bayes_scores[j].append(round(b.at[i, labels[j]], 5))\n",
    "bayes_scores\n"
   ]
  },
  {
   "cell_type": "code",
   "execution_count": 6,
   "metadata": {},
   "outputs": [
    {
     "data": {
      "text/html": [
       "<div>\n",
       "<style scoped>\n",
       "    .dataframe tbody tr th:only-of-type {\n",
       "        vertical-align: middle;\n",
       "    }\n",
       "\n",
       "    .dataframe tbody tr th {\n",
       "        vertical-align: top;\n",
       "    }\n",
       "\n",
       "    .dataframe thead th {\n",
       "        text-align: right;\n",
       "    }\n",
       "</style>\n",
       "<table border=\"1\" class=\"dataframe\">\n",
       "  <thead>\n",
       "    <tr style=\"text-align: right;\">\n",
       "      <th></th>\n",
       "      <th>Metrics</th>\n",
       "      <th>precision</th>\n",
       "      <th>recall</th>\n",
       "      <th>f1-score</th>\n",
       "      <th>support</th>\n",
       "    </tr>\n",
       "  </thead>\n",
       "  <tbody>\n",
       "    <tr>\n",
       "      <th>0</th>\n",
       "      <td>accuracy</td>\n",
       "      <td>0.784591</td>\n",
       "      <td>0.784591</td>\n",
       "      <td>0.784591</td>\n",
       "      <td>0.784591</td>\n",
       "    </tr>\n",
       "    <tr>\n",
       "      <th>1</th>\n",
       "      <td>macro avg</td>\n",
       "      <td>0.747352</td>\n",
       "      <td>0.585668</td>\n",
       "      <td>0.608450</td>\n",
       "      <td>268935.000000</td>\n",
       "    </tr>\n",
       "    <tr>\n",
       "      <th>2</th>\n",
       "      <td>weighted avg</td>\n",
       "      <td>0.787385</td>\n",
       "      <td>0.784591</td>\n",
       "      <td>0.726065</td>\n",
       "      <td>268935.000000</td>\n",
       "    </tr>\n",
       "  </tbody>\n",
       "</table>\n",
       "</div>"
      ],
      "text/plain": [
       "        Metrics  precision    recall  f1-score        support\n",
       "0      accuracy   0.784591  0.784591  0.784591       0.784591\n",
       "1     macro avg   0.747352  0.585668  0.608450  268935.000000\n",
       "2  weighted avg   0.787385  0.784591  0.726065  268935.000000"
      ]
     },
     "execution_count": 6,
     "metadata": {},
     "output_type": "execute_result"
    }
   ],
   "source": [
    "d = pd.read_csv(dtc).tail(3)\n",
    "d.rename(columns={'Unnamed: 0' : 'Metrics'}, inplace=True)\n",
    "d.reset_index(inplace=True)\n",
    "del d['index']\n",
    "d"
   ]
  },
  {
   "cell_type": "code",
   "execution_count": 7,
   "metadata": {},
   "outputs": [
    {
     "data": {
      "text/plain": [
       "[[0.78459, 0.74735, 0.78739],\n",
       " [0.78459, 0.58567, 0.78459],\n",
       " [0.78459, 0.60845, 0.72607],\n",
       " [0.78459, 268935.0, 268935.0]]"
      ]
     },
     "execution_count": 7,
     "metadata": {},
     "output_type": "execute_result"
    }
   ],
   "source": [
    "dtc_scores = [[], [], [], []]\n",
    "for i in range(3):\n",
    "    for j in range(4):\n",
    "        dtc_scores[j].append(round(d.at[i, labels[j]], 5))\n",
    "dtc_scores"
   ]
  },
  {
   "cell_type": "code",
   "execution_count": 8,
   "metadata": {},
   "outputs": [],
   "source": [
    "# s = pd.read_csv(svm).tail(3)\n",
    "# s.rename(columns={'Unnamed: 0' : 'Metrics'}, inplace=True)\n",
    "# s.reset_index(inplace=True)\n",
    "# del s['index']\n",
    "# s"
   ]
  },
  {
   "cell_type": "code",
   "execution_count": 9,
   "metadata": {},
   "outputs": [],
   "source": [
    "# svm_scores = [[], [], [], []]\n",
    "# for i in range(3):\n",
    "#     for j in range(4):\n",
    "#         svm_scores[j].append(round(s.at[i, labels[j]], 5))\n",
    "# svm_scores"
   ]
  },
  {
   "cell_type": "code",
   "execution_count": 10,
   "metadata": {},
   "outputs": [
    {
     "data": {
      "text/html": [
       "<div>\n",
       "<style scoped>\n",
       "    .dataframe tbody tr th:only-of-type {\n",
       "        vertical-align: middle;\n",
       "    }\n",
       "\n",
       "    .dataframe tbody tr th {\n",
       "        vertical-align: top;\n",
       "    }\n",
       "\n",
       "    .dataframe thead th {\n",
       "        text-align: right;\n",
       "    }\n",
       "</style>\n",
       "<table border=\"1\" class=\"dataframe\">\n",
       "  <thead>\n",
       "    <tr style=\"text-align: right;\">\n",
       "      <th></th>\n",
       "      <th>Metrics</th>\n",
       "      <th>precision</th>\n",
       "      <th>recall</th>\n",
       "      <th>f1-score</th>\n",
       "      <th>support</th>\n",
       "    </tr>\n",
       "  </thead>\n",
       "  <tbody>\n",
       "    <tr>\n",
       "      <th>0</th>\n",
       "      <td>accuracy</td>\n",
       "      <td>0.784056</td>\n",
       "      <td>0.784056</td>\n",
       "      <td>0.784056</td>\n",
       "      <td>0.784056</td>\n",
       "    </tr>\n",
       "    <tr>\n",
       "      <th>1</th>\n",
       "      <td>macro avg</td>\n",
       "      <td>0.616480</td>\n",
       "      <td>0.484346</td>\n",
       "      <td>0.507949</td>\n",
       "      <td>268935.000000</td>\n",
       "    </tr>\n",
       "    <tr>\n",
       "      <th>2</th>\n",
       "      <td>weighted avg</td>\n",
       "      <td>0.713858</td>\n",
       "      <td>0.784056</td>\n",
       "      <td>0.724980</td>\n",
       "      <td>268935.000000</td>\n",
       "    </tr>\n",
       "  </tbody>\n",
       "</table>\n",
       "</div>"
      ],
      "text/plain": [
       "        Metrics  precision    recall  f1-score        support\n",
       "0      accuracy   0.784056  0.784056  0.784056       0.784056\n",
       "1     macro avg   0.616480  0.484346  0.507949  268935.000000\n",
       "2  weighted avg   0.713858  0.784056  0.724980  268935.000000"
      ]
     },
     "execution_count": 10,
     "metadata": {},
     "output_type": "execute_result"
    }
   ],
   "source": [
    "k = pd.read_csv(knn).tail(3)\n",
    "k.rename(columns={'Unnamed: 0' : 'Metrics'}, inplace=True)\n",
    "k.reset_index(inplace=True)\n",
    "del k['index']\n",
    "k"
   ]
  },
  {
   "cell_type": "code",
   "execution_count": 11,
   "metadata": {},
   "outputs": [
    {
     "data": {
      "text/plain": [
       "[[0.78406, 0.61648, 0.71386],\n",
       " [0.78406, 0.48435, 0.78406],\n",
       " [0.78406, 0.50795, 0.72498],\n",
       " [0.78406, 268935.0, 268935.0]]"
      ]
     },
     "execution_count": 11,
     "metadata": {},
     "output_type": "execute_result"
    }
   ],
   "source": [
    "knn_scores = [[], [], [], []]\n",
    "for i in range(3):\n",
    "    for j in range(4):\n",
    "        knn_scores[j].append(round(k.at[i, labels[j]], 5))\n",
    "knn_scores"
   ]
  },
  {
   "cell_type": "code",
   "execution_count": 12,
   "metadata": {},
   "outputs": [
    {
     "data": {
      "text/html": [
       "<div>\n",
       "<style scoped>\n",
       "    .dataframe tbody tr th:only-of-type {\n",
       "        vertical-align: middle;\n",
       "    }\n",
       "\n",
       "    .dataframe tbody tr th {\n",
       "        vertical-align: top;\n",
       "    }\n",
       "\n",
       "    .dataframe thead th {\n",
       "        text-align: right;\n",
       "    }\n",
       "</style>\n",
       "<table border=\"1\" class=\"dataframe\">\n",
       "  <thead>\n",
       "    <tr style=\"text-align: right;\">\n",
       "      <th></th>\n",
       "      <th>Metrics</th>\n",
       "      <th>precision</th>\n",
       "      <th>recall</th>\n",
       "      <th>f1-score</th>\n",
       "      <th>support</th>\n",
       "    </tr>\n",
       "  </thead>\n",
       "  <tbody>\n",
       "    <tr>\n",
       "      <th>0</th>\n",
       "      <td>accuracy</td>\n",
       "      <td>0.744158</td>\n",
       "      <td>0.744158</td>\n",
       "      <td>0.744158</td>\n",
       "      <td>0.744158</td>\n",
       "    </tr>\n",
       "    <tr>\n",
       "      <th>1</th>\n",
       "      <td>macro avg</td>\n",
       "      <td>0.405592</td>\n",
       "      <td>0.319824</td>\n",
       "      <td>0.321463</td>\n",
       "      <td>268935.000000</td>\n",
       "    </tr>\n",
       "    <tr>\n",
       "      <th>2</th>\n",
       "      <td>weighted avg</td>\n",
       "      <td>0.690765</td>\n",
       "      <td>0.744158</td>\n",
       "      <td>0.672564</td>\n",
       "      <td>268935.000000</td>\n",
       "    </tr>\n",
       "  </tbody>\n",
       "</table>\n",
       "</div>"
      ],
      "text/plain": [
       "        Metrics  precision    recall  f1-score        support\n",
       "0      accuracy   0.744158  0.744158  0.744158       0.744158\n",
       "1     macro avg   0.405592  0.319824  0.321463  268935.000000\n",
       "2  weighted avg   0.690765  0.744158  0.672564  268935.000000"
      ]
     },
     "execution_count": 12,
     "metadata": {},
     "output_type": "execute_result"
    }
   ],
   "source": [
    "l = pd.read_csv(lr).tail(3)\n",
    "l.rename(columns={'Unnamed: 0' : 'Metrics'}, inplace=True)\n",
    "l.reset_index(inplace=True)\n",
    "del l['index']\n",
    "l"
   ]
  },
  {
   "cell_type": "code",
   "execution_count": 13,
   "metadata": {},
   "outputs": [
    {
     "data": {
      "text/plain": [
       "[[0.74416, 0.40559, 0.69077],\n",
       " [0.74416, 0.31982, 0.74416],\n",
       " [0.74416, 0.32146, 0.67256],\n",
       " [0.74416, 268935.0, 268935.0]]"
      ]
     },
     "execution_count": 13,
     "metadata": {},
     "output_type": "execute_result"
    }
   ],
   "source": [
    "lr_scores = [[], [], [], []]\n",
    "for i in range(3):\n",
    "    for j in range(4):\n",
    "        lr_scores[j].append(round(l.at[i, labels[j]], 5))\n",
    "lr_scores"
   ]
  },
  {
   "cell_type": "code",
   "execution_count": 14,
   "metadata": {},
   "outputs": [
    {
     "data": {
      "text/html": [
       "<div>\n",
       "<style scoped>\n",
       "    .dataframe tbody tr th:only-of-type {\n",
       "        vertical-align: middle;\n",
       "    }\n",
       "\n",
       "    .dataframe tbody tr th {\n",
       "        vertical-align: top;\n",
       "    }\n",
       "\n",
       "    .dataframe thead th {\n",
       "        text-align: right;\n",
       "    }\n",
       "</style>\n",
       "<table border=\"1\" class=\"dataframe\">\n",
       "  <thead>\n",
       "    <tr style=\"text-align: right;\">\n",
       "      <th></th>\n",
       "      <th>Metrics</th>\n",
       "      <th>precision</th>\n",
       "      <th>recall</th>\n",
       "      <th>f1-score</th>\n",
       "      <th>support</th>\n",
       "    </tr>\n",
       "  </thead>\n",
       "  <tbody>\n",
       "    <tr>\n",
       "      <th>0</th>\n",
       "      <td>accuracy</td>\n",
       "      <td>0.784048</td>\n",
       "      <td>0.784048</td>\n",
       "      <td>0.784048</td>\n",
       "      <td>0.784048</td>\n",
       "    </tr>\n",
       "    <tr>\n",
       "      <th>1</th>\n",
       "      <td>macro avg</td>\n",
       "      <td>0.642663</td>\n",
       "      <td>0.420892</td>\n",
       "      <td>0.457232</td>\n",
       "      <td>268935.000000</td>\n",
       "    </tr>\n",
       "    <tr>\n",
       "      <th>2</th>\n",
       "      <td>weighted avg</td>\n",
       "      <td>0.714033</td>\n",
       "      <td>0.784048</td>\n",
       "      <td>0.724982</td>\n",
       "      <td>268935.000000</td>\n",
       "    </tr>\n",
       "  </tbody>\n",
       "</table>\n",
       "</div>"
      ],
      "text/plain": [
       "        Metrics  precision    recall  f1-score        support\n",
       "0      accuracy   0.784048  0.784048  0.784048       0.784048\n",
       "1     macro avg   0.642663  0.420892  0.457232  268935.000000\n",
       "2  weighted avg   0.714033  0.784048  0.724982  268935.000000"
      ]
     },
     "execution_count": 14,
     "metadata": {},
     "output_type": "execute_result"
    }
   ],
   "source": [
    "r = pd.read_csv(rf).tail(3)\n",
    "r.rename(columns={'Unnamed: 0' : 'Metrics'}, inplace=True)\n",
    "r.reset_index(inplace=True)\n",
    "del r['index']\n",
    "r"
   ]
  },
  {
   "cell_type": "code",
   "execution_count": 15,
   "metadata": {},
   "outputs": [
    {
     "data": {
      "text/plain": [
       "[[0.78405, 0.64266, 0.71403],\n",
       " [0.78405, 0.42089, 0.78405],\n",
       " [0.78405, 0.45723, 0.72498],\n",
       " [0.78405, 268935.0, 268935.0]]"
      ]
     },
     "execution_count": 15,
     "metadata": {},
     "output_type": "execute_result"
    }
   ],
   "source": [
    "rf_scores = [[], [], [], []]\n",
    "for i in range(3):\n",
    "    for j in range(4):\n",
    "        rf_scores[j].append(round(r.at[i, labels[j]], 5))\n",
    "rf_scores"
   ]
  },
  {
   "cell_type": "code",
   "execution_count": 16,
   "metadata": {},
   "outputs": [
    {
     "data": {
      "image/png": "[encoded data removed]",
      "text/plain": [
       "<Figure size 864x720 with 1 Axes>"
      ]
     },
     "metadata": {
      "needs_background": "light"
     },
     "output_type": "display_data"
    }
   ],
   "source": [
    "fig = plt.subplots(figsize = (12, 10))\n",
    "barWidth = 0.15\n",
    "\n",
    "br1 = np.arange(len(bayes_scores[0]))\n",
    "br2 = [x + barWidth for x in br1]\n",
    "# br3 = [x + barWidth for x in br2]\n",
    "# br4 = [x + barWidth for x in br3]\n",
    "br4 = [x + barWidth for x in br2]\n",
    "br5 = [x + barWidth for x in br4]\n",
    "br6 = [x + barWidth for x in br5]\n",
    "\n",
    "plt.bar(br1, bayes_scores[0], color ='r', width = barWidth, edgecolor ='grey', label ='Bayes')\n",
    "plt.bar(br2, dtc_scores[0], color ='g', width = barWidth, edgecolor ='grey', label ='DTC')\n",
    "# plt.bar(br3, svm_scores[0], color ='b', width = barWidth, edgecolor ='grey', label ='SVM')\n",
    "plt.bar(br4, knn_scores[0], color ='y', width = barWidth, edgecolor ='grey', label ='KNN')\n",
    "plt.bar(br5, lr_scores[0], color ='c', width = barWidth, edgecolor ='grey', label ='LR')\n",
    "plt.bar(br6, lr_scores[0], color ='black', width = barWidth, edgecolor ='grey', label ='RF')\n",
    "\n",
    "plt.xlabel('Model', fontsize = 15)\n",
    "plt.ylabel('Value', fontsize = 15)\n",
    "plt.xticks([r + barWidth for r in range(len(bayes_scores[0]))], ['Accuracy','Macro avg','Weighted avg'])\n",
    "plt.title('Precision', fontweight = 'bold', fontsize = 30, y=1.02)\n",
    "plt.legend()\n",
    "plt.savefig('Precision.jpeg')\n",
    "plt.show()"
   ]
  },
  {
   "cell_type": "code",
   "execution_count": 17,
   "metadata": {},
   "outputs": [
    {
     "data": {
      "image/png": "[encoded data removed]",
      "text/plain": [
       "<Figure size 1080x720 with 1 Axes>"
      ]
     },
     "metadata": {
      "needs_background": "light"
     },
     "output_type": "display_data"
    }
   ],
   "source": [
    "fig = plt.subplots(figsize = (15, 10))\n",
    "barWidth = 0.15\n",
    "\n",
    "br1 = np.arange(len(bayes_scores[1]))\n",
    "br2 = [x + barWidth for x in br1]\n",
    "# br3 = [x + barWidth for x in br2]\n",
    "# br4 = [x + barWidth for x in br3]\n",
    "br4 = [x + barWidth for x in br2]\n",
    "br5 = [x + barWidth for x in br4]\n",
    "br6 = [x + barWidth for x in br5]\n",
    "\n",
    "\n",
    "plt.bar(br1, bayes_scores[1], color ='r', width = barWidth, edgecolor ='grey', label ='Bayes')\n",
    "plt.bar(br2, dtc_scores[1], color ='g', width = barWidth, edgecolor ='grey', label ='DTC')\n",
    "# plt.bar(br3, svm_scores[1], color ='b', width = barWidth, edgecolor ='grey', label ='SVM')\n",
    "plt.bar(br4, knn_scores[1], color ='y', width = barWidth, edgecolor ='grey', label ='KNN')\n",
    "plt.bar(br5, lr_scores[1], color ='c', width = barWidth, edgecolor ='grey', label ='LR')\n",
    "plt.bar(br6, lr_scores[1], color ='black', width = barWidth, edgecolor ='grey', label ='RF')\n",
    "\n",
    "\n",
    "plt.xlabel('Model', fontsize = 15)\n",
    "plt.ylabel('Value', fontsize = 15)\n",
    "plt.xticks([r + barWidth for r in range(len(bayes_scores[1]))], ['Accuracy','Macro avg','Weighted avg'])\n",
    "plt.title('Recall', fontweight = 'bold', fontsize = 30, y=1.02)\n",
    "plt.legend()\n",
    "plt.savefig('Recall.jpeg')\n",
    "plt.show()"
   ]
  },
  {
   "cell_type": "code",
   "execution_count": 18,
   "metadata": {},
   "outputs": [
    {
     "data": {
      "image/png": "[encoded data removed]",
      "text/plain": [
       "<Figure size 864x720 with 1 Axes>"
      ]
     },
     "metadata": {
      "needs_background": "light"
     },
     "output_type": "display_data"
    }
   ],
   "source": [
    "fig = plt.subplots(figsize = (12, 10))\n",
    "barWidth = 0.15\n",
    "\n",
    "br1 = np.arange(len(bayes_scores[2]))\n",
    "br2 = [x + barWidth for x in br1]\n",
    "# br3 = [x + barWidth for x in br2]\n",
    "# br4 = [x + barWidth for x in br3]\n",
    "br4 = [x + barWidth for x in br2]\n",
    "br5 = [x + barWidth for x in br4]\n",
    "br6 = [x + barWidth for x in br5]\n",
    "\n",
    "\n",
    "plt.bar(br1, bayes_scores[2], color ='r', width = barWidth, edgecolor ='grey', label ='Bayes')\n",
    "plt.bar(br2, dtc_scores[2], color ='g', width = barWidth, edgecolor ='grey', label ='DTC')\n",
    "# plt.bar(br3, svm_scores[2], color ='b', width = barWidth, edgecolor ='grey', label ='SVM')\n",
    "plt.bar(br4, knn_scores[2], color ='y', width = barWidth, edgecolor ='grey', label ='KNN')\n",
    "plt.bar(br5, lr_scores[2], color ='c', width = barWidth, edgecolor ='grey', label ='LR')\n",
    "plt.bar(br6, lr_scores[2], color ='black', width = barWidth, edgecolor ='grey', label ='RF')\n",
    "\n",
    "plt.xlabel('Model', fontsize = 15)\n",
    "plt.ylabel('Value', fontsize = 15)\n",
    "plt.xticks([r + barWidth for r in range(len(bayes_scores[2]))], ['Accuracy','Macro avg','Weighted avg'])\n",
    "plt.title('F1 Score', fontweight = 'bold', fontsize = 30, y=1.02)\n",
    "plt.legend()\n",
    "plt.savefig('F1.jpeg')\n",
    "plt.show()"
   ]
  },
  {
   "cell_type": "code",
   "execution_count": 19,
   "metadata": {},
   "outputs": [
    {
     "data": {
      "image/png": "[encoded data removed]",
      "text/plain": [
       "<Figure size 864x720 with 1 Axes>"
      ]
     },
     "metadata": {
      "needs_background": "light"
     },
     "output_type": "display_data"
    }
   ],
   "source": [
    "fig = plt.subplots(figsize = (12, 10))\n",
    "barWidth = 0.15\n",
    "\n",
    "br1 = np.arange(len(bayes_scores[3]))\n",
    "br2 = [x + barWidth for x in br1]\n",
    "br4 = [x + barWidth for x in br2]\n",
    "br5 = [x + barWidth for x in br4]\n",
    "br6 = [x + barWidth for x in br5]\n",
    "\n",
    "plt.bar(br1, bayes_scores[3], color ='r', width = barWidth, edgecolor ='grey', label ='Bayes')\n",
    "plt.bar(br2, dtc_scores[3], color ='g', width = barWidth, edgecolor ='grey', label ='DTC')\n",
    "# plt.bar(br3, svm_scores[3], color ='b', width = barWidth, edgecolor ='grey', label ='SVM')\n",
    "# SVM was run on a reduced dataset due to hardware limitations and hence the support value is less as compared to others\n",
    "plt.bar(br4, knn_scores[3], color ='y', width = barWidth, edgecolor ='grey', label ='KNN')\n",
    "plt.bar(br5, lr_scores[3], color ='c', width = barWidth, edgecolor ='grey', label ='LR')\n",
    "plt.bar(br6, lr_scores[3], color ='black', width = barWidth, edgecolor ='grey', label ='RF')\n",
    "\n",
    "plt.xlabel('Model', fontsize = 15)\n",
    "plt.ylabel('Value', fontsize = 15)\n",
    "plt.xticks([r + barWidth for r in range(len(bayes_scores[3]))], ['Accuracy','Macro avg','Weighted avg'])\n",
    "plt.title('Support', fontweight = 'bold', fontsize = 30, y=1.02)\n",
    "plt.legend()\n",
    "plt.savefig('Support.jpeg')\n",
    "plt.show()"
   ]
  }
 ],
 "metadata": {
  "kernelspec": {
   "display_name": "Python 3",
   "language": "python",
   "name": "python3"
  },
  "language_info": {
   "codemirror_mode": {
    "name": "ipython",
    "version": 3
   },
   "file_extension": ".py",
   "mimetype": "text/x-python",
   "name": "python",
   "nbconvert_exporter": "python",
   "pygments_lexer": "ipython3",
   "version": "3.10.1"
  },
  "orig_nbformat": 4,
  "vscode": {
   "interpreter": {
    "hash": "369f2c481f4da34e4445cda3fffd2e751bd1c4d706f27375911949ba6bb62e1c"
   }
  }
 },
 "nbformat": 4,
 "nbformat_minor": 2
}
